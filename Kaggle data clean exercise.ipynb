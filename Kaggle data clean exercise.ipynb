{
 "cells": [
  {
   "cell_type": "code",
   "execution_count": null,
   "metadata": {
    "_cell_guid": "b1076dfc-b9ad-4769-8c92-a6c4dae69d19",
    "_uuid": "8f2839f25d086af736a60e9eeb907d3b93b6e0e5"
   },
   "outputs": [],
   "source": [
    "# This Python 3 environment comes with many helpful analytics libraries installed\n",
    "# It is defined by the kaggle/python docker image: https://github.com/kaggle/docker-python\n",
    "# For example, here's several helpful packages to load in \n",
    "\n",
    "import numpy as np # linear algebra\n",
    "import pandas as pd # data processing, CSV file I/O (e.g. pd.read_csv)\n",
    "\n",
    "# Input data files are available in the \"../input/\" directory.\n",
    "# For example, running this (by clicking run or pressing Shift+Enter) will list all files under the input directory\n",
    "\n",
    "import os\n",
    "for dirname, _, filenames in os.walk('/kaggle/input'):\n",
    "    for filename in filenames:\n",
    "        print(os.path.join(dirname, filename))\n",
    "\n",
    "# Any results you write to the current directory are saved as output."
   ]
  },
  {
   "cell_type": "code",
   "execution_count": null,
   "metadata": {
    "_cell_guid": "79c7e3d0-c299-4dcb-8224-4455121ee9b0",
    "_uuid": "d629ff2d2480ee46fbb7e2d37f6b5fab8052498a"
   },
   "outputs": [],
   "source": [
    "pd.set_option('display.max_rows',10000)\n",
    "pd.set_option('display.max_columns',100)\n",
    "\n"
   ]
  },
  {
   "cell_type": "code",
   "execution_count": null,
   "metadata": {},
   "outputs": [],
   "source": [
    "df=pd.read_csv('/kaggle/input/ecommerce-data/data.csv',encoding='ISO-8859-1')\n",
    "df.head()"
   ]
  },
  {
   "cell_type": "code",
   "execution_count": null,
   "metadata": {},
   "outputs": [],
   "source": [
    "df.rename(index=str,columns={'InvoiceNo': 'invoice_num',\n",
    "                            'StockCode': 'stock_code',\n",
    "                            'Description': 'description',\n",
    "                            'Quantity': 'quantity',\n",
    "                            'InvoiceDate': 'invoice_date',\n",
    "                            'UnitPrice': 'unit_price',\n",
    "                            'CustomerID': 'cust_id',\n",
    "                            'Country':'country'},inplace=True)"
   ]
  },
  {
   "cell_type": "code",
   "execution_count": null,
   "metadata": {},
   "outputs": [],
   "source": [
    "df.head()"
   ]
  },
  {
   "cell_type": "code",
   "execution_count": null,
   "metadata": {},
   "outputs": [],
   "source": [
    "df.isnull().sum().sort_values(ascending=False)"
   ]
  },
  {
   "cell_type": "code",
   "execution_count": null,
   "metadata": {},
   "outputs": [],
   "source": [
    "#check out the rows with missing values\n",
    "df[df.isnull().any(axis=1)].head()"
   ]
  },
  {
   "cell_type": "code",
   "execution_count": null,
   "metadata": {},
   "outputs": [],
   "source": [
    "#change the invoice_date format-string to timestamp format\n",
    "df['invoice_date']=pd.to_datetime(df['invoice_date'],format='%m/%d/%Y %H:%M')"
   ]
  },
  {
   "cell_type": "code",
   "execution_count": null,
   "metadata": {},
   "outputs": [],
   "source": [
    "df.tail()"
   ]
  },
  {
   "cell_type": "code",
   "execution_count": null,
   "metadata": {},
   "outputs": [],
   "source": [
    "df['description']=df['description'].str.lower()"
   ]
  },
  {
   "cell_type": "code",
   "execution_count": null,
   "metadata": {},
   "outputs": [],
   "source": [
    "df.head()"
   ]
  },
  {
   "cell_type": "code",
   "execution_count": null,
   "metadata": {},
   "outputs": [],
   "source": [
    "df_new=df.dropna()\n",
    "df_new.isnull().sum().sort_values(ascending=False)"
   ]
  },
  {
   "cell_type": "code",
   "execution_count": null,
   "metadata": {},
   "outputs": [],
   "source": [
    "df_new['cust_id']=df_new['cust_id'].astype('int64')\n",
    "df_new.head()"
   ]
  },
  {
   "cell_type": "code",
   "execution_count": null,
   "metadata": {},
   "outputs": [],
   "source": [
    "df_new.info()"
   ]
  },
  {
   "cell_type": "code",
   "execution_count": null,
   "metadata": {},
   "outputs": [],
   "source": [
    "df_new.groupby(by=['cust_id','country'],as_index=False)['invoice_num'].count()"
   ]
  },
  {
   "cell_type": "code",
   "execution_count": null,
   "metadata": {},
   "outputs": [],
   "source": [
    "df_new['quantity'].describe()"
   ]
  },
  {
   "cell_type": "code",
   "execution_count": null,
   "metadata": {},
   "outputs": [],
   "source": [
    "df_new=df_new[df_new['quantity']>0]\n",
    "df_new['quantity'].describe()"
   ]
  },
  {
   "cell_type": "code",
   "execution_count": null,
   "metadata": {},
   "outputs": [],
   "source": [
    "df_new['amount']=df_new['quantity']*df_new['unit_price']\n",
    "df_new.head()"
   ]
  },
  {
   "cell_type": "code",
   "execution_count": null,
   "metadata": {},
   "outputs": [],
   "source": [
    "df_new[df_new['cust_id'].isnull()].head()"
   ]
  },
  {
   "cell_type": "code",
   "execution_count": null,
   "metadata": {},
   "outputs": [],
   "source": [
    "df_new['cancelled']=np.where(df_new['invoice_num'].apply(lambda x:x[0]=='C'),1,0)\n",
    "df_new[df_new['cancelled']==0]"
   ]
  },
  {
   "cell_type": "code",
   "execution_count": null,
   "metadata": {},
   "outputs": [],
   "source": [
    "import matplotlib.pyplot as plt\n",
    "%matplotlib inline\n",
    "import seaborn as sns\n",
    "sns.set()#seaborn defaults\n",
    "import warnings\n",
    "warnings.filterwarnings(\"ignore\", category=DeprecationWarning)\n",
    "warnings.filterwarnings(\"ignore\", category=UserWarning)\n",
    "warnings.filterwarnings(\"ignore\", category=RuntimeWarning)\n",
    "warnings.filterwarnings(\"ignore\", category=FutureWarning)"
   ]
  },
  {
   "cell_type": "code",
   "execution_count": null,
   "metadata": {},
   "outputs": [],
   "source": [
    "#which stock code is most common\n",
    "stockcode_counts=df_new['stock_code'].value_counts().sort_values(ascending=False)\n",
    "fig,ax=plt.subplots(2,1,figsize=(20,15))\n",
    "sns.barplot(stockcode_counts.iloc[0:20].index,\n",
    "            stockcode_counts.iloc[0:20].values,\n",
    "           ax=ax[0],palette=\"Oranges_r\")\n",
    "ax[0].set_ylabel('counts')\n",
    "ax[0].set_xlabel('stockcode')\n",
    "ax[0].set_title('stockcode distribution')\n",
    "sns.distplot(np.round(stockcode_counts/df_new.shape[0]*100,2),\n",
    "           kde=False,\n",
    "           bins=20,\n",
    "           ax=ax[1],color='Orange')\n",
    "ax[1].set_title('% of stockcode distribution')\n",
    "ax[1].set_xlabel('% of invoice with this code')\n",
    "ax[1].set_ylabel('Frequency')\n"
   ]
  },
  {
   "cell_type": "code",
   "execution_count": null,
   "metadata": {},
   "outputs": [],
   "source": [
    "print(list(ax))"
   ]
  },
  {
   "cell_type": "code",
   "execution_count": null,
   "metadata": {},
   "outputs": [],
   "source": [
    "def count_numeric_chars(l):\n",
    "    return sum(1 for c in l if c.isdigit())"
   ]
  },
  {
   "cell_type": "code",
   "execution_count": null,
   "metadata": {},
   "outputs": [],
   "source": [
    "df_new['stockcodelength']=df_new['stock_code'].apply(lambda l: len(l))\n",
    "df_new['stockcodenumeric']=df_new['stock_code'].apply(lambda l: count_numeric_chars(l))"
   ]
  },
  {
   "cell_type": "code",
   "execution_count": null,
   "metadata": {},
   "outputs": [],
   "source": [
    "fig,ax=plt.subplots(1,2,figsize=(20,5))\n",
    "sns.countplot(df_new['stockcodelength'],palette='Oranges_r',ax=ax[0])\n",
    "sns.countplot(df_new['stockcodenumeric'],palette='Oranges_r',ax=ax[1])\n",
    "ax[0].set_xlabel('Length of stockcode')\n",
    "ax[1].set_xlabel('numeric count in stockcode')"
   ]
  },
  {
   "cell_type": "code",
   "execution_count": null,
   "metadata": {},
   "outputs": [],
   "source": [
    "df_new.loc[df_new['description'].isnull()==False,'lower_description']=df_new.loc[df_new['description'].isnull()==False,'description'].apply(lambda l:l.lower())"
   ]
  },
  {
   "cell_type": "code",
   "execution_count": null,
   "metadata": {},
   "outputs": [],
   "source": [
    "df_new.head()"
   ]
  },
  {
   "cell_type": "code",
   "execution_count": null,
   "metadata": {},
   "outputs": [],
   "source": [
    "#is there any missing value left\n",
    "df_new.isnull().sum().sum()"
   ]
  },
  {
   "cell_type": "code",
   "execution_count": null,
   "metadata": {},
   "outputs": [],
   "source": [
    "df_new.loc[df_new['stockcodenumeric']<5]['lower_description'].value_counts()"
   ]
  },
  {
   "cell_type": "code",
   "execution_count": null,
   "metadata": {},
   "outputs": [],
   "source": [
    "data=df_new.loc[(df_new['stockcodenumeric']==5)&(df_new['stockcodelength'])].copy()"
   ]
  },
  {
   "cell_type": "code",
   "execution_count": null,
   "metadata": {},
   "outputs": [],
   "source": [
    "data.head()"
   ]
  },
  {
   "cell_type": "code",
   "execution_count": null,
   "metadata": {},
   "outputs": [],
   "source": [
    "data['stock_code'].nunique()"
   ]
  },
  {
   "cell_type": "code",
   "execution_count": null,
   "metadata": {},
   "outputs": [],
   "source": [
    "data.drop(['stockcodelength','stockcodenumeric'],axis=1)"
   ]
  },
  {
   "cell_type": "code",
   "execution_count": null,
   "metadata": {},
   "outputs": [],
   "source": [
    "description_counts=data['description'].value_counts().sort_values(ascending=False).iloc[0:30]\n",
    "plt.figure(figsize=(20,5))\n",
    "sns.barplot(description_counts.index,description_counts.values,palette='Purples_r')\n",
    "plt.ylabel('Counts')\n",
    "plt.title('which product descriptions are most commom?')\n",
    "plt.xticks(rotation=90)\n"
   ]
  },
  {
   "cell_type": "code",
   "execution_count": null,
   "metadata": {},
   "outputs": [],
   "source": [
    "def count_lower_chars(l):\n",
    "    return sum(1 for c in l if c.islower())"
   ]
  },
  {
   "cell_type": "code",
   "execution_count": null,
   "metadata": {},
   "outputs": [],
   "source": [
    "data['descriptionlength']=data['description'].apply(lambda l: len(l))\n",
    "data['LowCharsInDescription']=data['description'].apply(lambda l: count_lower_chars(l))"
   ]
  },
  {
   "cell_type": "code",
   "execution_count": null,
   "metadata": {},
   "outputs": [],
   "source": [
    "fig, ax=plt.subplots(1,2,figsize=(20,5))\n",
    "sns.countplot(data['descriptionlength'],ax=ax[0],color='Purple')\n",
    "sns.countplot(data['LowCharsInDescription'],ax=ax[1],color='Purple')\n",
    "ax[1].set_yscale('log')"
   ]
  },
  {
   "cell_type": "code",
   "execution_count": null,
   "metadata": {},
   "outputs": [],
   "source": [
    "lowchar_counts=data.loc[data['LowCharsInDescription']>0]['description'].value_counts()[0:10]\n",
    "plt.figure(figsize=(15,3))\n",
    "sns.barplot(lowchar_counts.index, lowchar_counts.values, palette=\"Purples_r\")\n",
    "plt.xticks(rotation=90);"
   ]
  },
  {
   "cell_type": "code",
   "execution_count": null,
   "metadata": {},
   "outputs": [],
   "source": [
    "lowchar_counts.sort_values(ascending=False)"
   ]
  },
  {
   "cell_type": "code",
   "execution_count": null,
   "metadata": {},
   "outputs": [],
   "source": [
    "data.tail()"
   ]
  },
  {
   "cell_type": "code",
   "execution_count": null,
   "metadata": {},
   "outputs": [],
   "source": [
    "data['unit_price'].describe()"
   ]
  },
  {
   "cell_type": "code",
   "execution_count": null,
   "metadata": {},
   "outputs": [],
   "source": [
    "price=np.array(data['unit_price'])\n",
    "price"
   ]
  },
  {
   "cell_type": "code",
   "execution_count": null,
   "metadata": {},
   "outputs": [],
   "source": [
    "fig,ax=plt.subplots(1,1)\n",
    "plt.hist(price,bins=10,color='orange')\n",
    "plt.ylabel('unitPrice')\n",
    "ax.legend(loc='best')\n",
    "plt.show()"
   ]
  },
  {
   "cell_type": "code",
   "execution_count": null,
   "metadata": {},
   "outputs": [],
   "source": [
    "data.loc[data['unit_price']==0].sort_values(by='quantity',ascending=False).head()"
   ]
  },
  {
   "cell_type": "code",
   "execution_count": null,
   "metadata": {},
   "outputs": [],
   "source": [
    "data=data.loc[data['unit_price']>0].copy()"
   ]
  },
  {
   "cell_type": "code",
   "execution_count": null,
   "metadata": {},
   "outputs": [],
   "source": [
    "fig,ax=plt.subplots(1,2,figsize=(20,5))\n",
    "sns.distplot(data['unit_price'],ax=ax[0],kde=False,color='red')\n",
    "sns.distplot(np.log(data['unit_price']),ax=ax[1],bins=20,color='tomato',kde=False)\n",
    "ax[1].set_xlabel('log-unit-price')"
   ]
  },
  {
   "cell_type": "code",
   "execution_count": null,
   "metadata": {},
   "outputs": [],
   "source": [
    "data['quantity'].describe()"
   ]
  },
  {
   "cell_type": "code",
   "execution_count": null,
   "metadata": {},
   "outputs": [],
   "source": [
    "fig,ax=plt.subplots(1,1,figsize=(20,5))\n",
    "sns.distplot(np.log(data['quantity']),ax=ax,bins=20,kde=False,color='limegreen')\n",
    "ax.set_title('log_quantity distribution')\n",
    "ax.set_label('Natural-Log quantity')"
   ]
  },
  {
   "cell_type": "code",
   "execution_count": null,
   "metadata": {},
   "outputs": [],
   "source": [
    "#foucs on daily product sales\n",
    "data['Revenue']=data['quantity']*data['unit_price']\n",
    "data['Year']=data['invoice_date'].dt.year\n",
    "data['Quarter']=data['invoice_date'].dt.quarter\n",
    "data['Month']=data['invoice_date'].dt.month\n",
    "data['Week']=data['invoice_date'].dt.week\n",
    "data['Weekday']=data['invoice_date'].dt.weekday\n",
    "data['Day']=data['invoice_date'].dt.day\n",
    "data['Date']=pd.to_datetime(data[['Year','Month','Day']])\n"
   ]
  },
  {
   "cell_type": "code",
   "execution_count": null,
   "metadata": {},
   "outputs": [],
   "source": [
    "grouped_features=['Date','Year','Quarter','Month','Week','Weekday','Day',\n",
    "                'stock_code']"
   ]
  },
  {
   "cell_type": "code",
   "execution_count": null,
   "metadata": {},
   "outputs": [],
   "source": [
    "daily_data=pd.DataFrame(data.groupby(grouped_features)['quantity'].sum(),columns=['quantity'])\n",
    "daily_data['Revenue']=data.groupby(grouped_features)['Revenue'].sum()\n",
    "daily_data=daily_data.reset_index()\n",
    "daily_data.head()"
   ]
  },
  {
   "cell_type": "code",
   "execution_count": null,
   "metadata": {},
   "outputs": [],
   "source": [
    "daily_data.loc[:,['quantity','Revenue']].describe()"
   ]
  },
  {
   "cell_type": "code",
   "execution_count": null,
   "metadata": {},
   "outputs": [],
   "source": [
    "low_quantity=daily_data['quantity'].quantile(0.01)\n",
    "high_quantity=daily_data['quantity'].quantile(0.99)\n",
    "print(low_quantity,high_quantity)"
   ]
  },
  {
   "cell_type": "code",
   "execution_count": null,
   "metadata": {},
   "outputs": [],
   "source": [
    "low_revenue=daily_data['Revenue'].quantile(0.01)\n",
    "high_revenue=daily_data['Revenue'].quantile(0.99)\n",
    "print(low_revenue,high_revenue)"
   ]
  },
  {
   "cell_type": "code",
   "execution_count": null,
   "metadata": {},
   "outputs": [],
   "source": [
    "daily_data=daily_data.loc[(daily_data['quantity']>=low_quantity)&(daily_data['quantity']<=high_quantity)]\n",
    "daily_data=daily_data.loc[(daily_data['Revenue']>=low_revenue)&(daily_data['Revenue']<=high_revenue)]"
   ]
  },
  {
   "cell_type": "code",
   "execution_count": null,
   "metadata": {},
   "outputs": [],
   "source": [
    "daily_data.shape"
   ]
  },
  {
   "cell_type": "code",
   "execution_count": null,
   "metadata": {},
   "outputs": [],
   "source": [
    "daily_data.head()"
   ]
  },
  {
   "cell_type": "code",
   "execution_count": null,
   "metadata": {},
   "outputs": [],
   "source": [
    "week=daily_data['Week'].max()-2\n",
    "print('Validation after week {}'.format(week))\n",
    "print('Validation starts at timepoint {}'.format(daily_data[daily_data['Week']==week].Date.min()))\n"
   ]
  },
  {
   "cell_type": "code",
   "execution_count": null,
   "metadata": {},
   "outputs": [],
   "source": [
    "X=daily_data.drop(['quantity','Revenue','Date'],axis=1)\n",
    "daily_data['quantity']=np.log(daily_data['quantity'])\n",
    "y=daily_data['quantity']"
   ]
  },
  {
   "cell_type": "code",
   "execution_count": null,
   "metadata": {},
   "outputs": [],
   "source": [
    "y.plot(kind='hist')"
   ]
  },
  {
   "cell_type": "code",
   "execution_count": null,
   "metadata": {},
   "outputs": [],
   "source": [
    "daily_data.head()"
   ]
  },
  {
   "cell_type": "code",
   "execution_count": null,
   "metadata": {},
   "outputs": [],
   "source": [
    "# create product types\n",
    "products=pd.DataFrame(index=data.loc[data['Week']<week]['stock_code'].unique(),columns=['MedianPrice'])\n",
    "products['MedianPrice']=data.loc[data['Week']<week].groupby('stock_code')['unit_price'].median()\n",
    "products.head()"
   ]
  }
 ],
 "metadata": {
  "kernelspec": {
   "display_name": "Python 3",
   "language": "python",
   "name": "python3"
  },
  "language_info": {
   "codemirror_mode": {
    "name": "ipython",
    "version": 3
   },
   "file_extension": ".py",
   "mimetype": "text/x-python",
   "name": "python",
   "nbconvert_exporter": "python",
   "pygments_lexer": "ipython3",
   "version": "3.7.4"
  }
 },
 "nbformat": 4,
 "nbformat_minor": 1
}
